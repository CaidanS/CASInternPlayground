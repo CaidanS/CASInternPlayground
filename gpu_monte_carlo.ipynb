{
  "nbformat": 4,
  "nbformat_minor": 0,
  "metadata": {
    "colab": {
      "name": "Untitled0.ipynb",
      "provenance": [],
      "collapsed_sections": []
    },
    "kernelspec": {
      "name": "python3",
      "display_name": "Python 3"
    },
    "language_info": {
      "name": "python"
    },
    "accelerator": "GPU"
  },
  "cells": [
    {
      "cell_type": "code",
      "source": [
        "!nvidia-smi -L"
      ],
      "metadata": {
        "colab": {
          "base_uri": "https://localhost:8080/"
        },
        "id": "nleFAbtvYxjl",
        "outputId": "d1d9dd34-9680-47bb-fd95-1d899ab73494"
      },
      "execution_count": 1,
      "outputs": [
        {
          "output_type": "stream",
          "name": "stdout",
          "text": [
            "GPU 0: Tesla P100-PCIE-16GB (UUID: GPU-0c69f5d2-ab21-409f-b579-de79624ec970)\n"
          ]
        }
      ]
    },
    {
      "cell_type": "code",
      "source": [
        "%%capture\n",
        "!pip install pymort\n",
        "!pip install matplotlib==3.4.0"
      ],
      "metadata": {
        "id": "LTiHaFVyVTOz"
      },
      "execution_count": 2,
      "outputs": []
    },
    {
      "cell_type": "code",
      "execution_count": 6,
      "metadata": {
        "id": "c34Gmu0SN6T4"
      },
      "outputs": [],
      "source": [
        "from pymort import MortXML\n",
        "import jax.numpy as jnp\n",
        "import jax\n",
        "from jax import random\n",
        "from typing import List\n",
        "import matplotlib.pyplot as plt"
      ]
    },
    {
      "cell_type": "code",
      "source": [
        "def timeStep(isAlive, policyAges, mortalityTable, key: random.PRNGKeyArray):\n",
        "  \"\"\"Take arrays of policyAges and isAlive, return new array isAlive with 1s for living people\"\"\"\n",
        "  return isAlive * jnp.where(random.uniform(key, shape=isAlive.shape) > mortalityTable[policyAges,], 1, 0)\n",
        "\n",
        "def timeSteps(issueAges, mortalityTable, timesteps: int, keyInit: int):\n",
        "  \"\"\"Run the simulation across\"\"\"\n",
        "  # policy ages are initially the initial ages\n",
        "  policyAges = issueAges\n",
        "  # everyone is initially alive, a 1 in the array\n",
        "  isAlive = jnp.ones(policyAges.shape)\n",
        "  key = random.PRNGKey(keyInit)\n",
        "  # store the `isAlive` arrays across timesteps. res[0] is an array with 1 for people alive at t=1 (the end of year 1).\n",
        "  res = []\n",
        "\n",
        "  # I had to hardcode the `20` in, can we do this over varying timesteps?\n",
        "  for t in range(1, 20+1):\n",
        "    key, subkey = random.split(key)\n",
        "    isAlive = timeStep(isAlive, policyAges, mortalityTable, subkey)\n",
        "    policyAges += 1\n",
        "    res.append(isAlive)\n",
        "  \n",
        "  # dimensions are Timesteps X Policies\n",
        "  return jnp.array(res)"
      ],
      "metadata": {
        "id": "2uLhRLF4aMFs"
      },
      "execution_count": 7,
      "outputs": []
    },
    {
      "cell_type": "code",
      "source": [
        "# load the mortality table\n",
        "xml = MortXML(2581)\n",
        "mortalityTable = jnp.array(xml.Tables[0].Values.vals)"
      ],
      "metadata": {
        "id": "thqFBYCLckLT"
      },
      "execution_count": 8,
      "outputs": []
    },
    {
      "cell_type": "code",
      "source": [
        "%%time\n",
        "vTimeSteps = jax.vmap(timeSteps)\n",
        "\n",
        "def tileSeveral(size: int, jaxArrays: List[jnp.DeviceArray]):\n",
        "  \"\"\"This is a utility function that duplicates arrays so that we can vmap over them\"\"\"\n",
        "  return [jnp.tile(jaxArray, (size, 1)) for jaxArray in jaxArrays]\n",
        "\n",
        "def makeCube(issueAges: jnp.DeviceArray, timesteps: int, simulations: int):\n",
        "  \"\"\"Take in the policies and simulate over the number of timesteps and simulations\"\"\"\n",
        "  vIssueAges, vMortalityTable = tileSeveral(simulations, [issueAges, mortalityTable])\n",
        "  return vTimeSteps(vIssueAges, vMortalityTable, jnp.ones(simulations)*timesteps, jnp.arange(simulations))\n",
        "\n",
        "\n",
        "# get the issue ages\n",
        "key = random.PRNGKey(-24397832879)\n",
        "key, subkey = random.split(key)\n",
        "model_points = 1000\n",
        "issueAges = random.randint(subkey, (model_points,), 70, 85)\n",
        "\n",
        "timeCube = makeCube(issueAges, 20, 15_000)\n",
        "portfolioDistribution = jnp.sum(timeCube, axis=(1,2))\n",
        "\n",
        "# print(timeCube.shape)"
      ],
      "metadata": {
        "id": "TrXv0XOYOAzw",
        "colab": {
          "base_uri": "https://localhost:8080/"
        },
        "outputId": "2b85e13b-0aaa-450e-f3c9-b02c48d060bc"
      },
      "execution_count": 16,
      "outputs": [
        {
          "output_type": "stream",
          "name": "stdout",
          "text": [
            "CPU times: user 989 ms, sys: 61.9 ms, total: 1.05 s\n",
            "Wall time: 2.71 s\n"
          ]
        }
      ]
    },
    {
      "cell_type": "code",
      "source": [
        "counts, edges = jnp.histogram(portfolioDistribution)"
      ],
      "metadata": {
        "id": "QIxfNToDkrVP"
      },
      "execution_count": 17,
      "outputs": []
    },
    {
      "cell_type": "code",
      "source": [
        "plt.stairs(counts, edges, fill=True)"
      ],
      "metadata": {
        "colab": {
          "base_uri": "https://localhost:8080/",
          "height": 283
        },
        "id": "Dw-Gdp20lehK",
        "outputId": "96d011a5-bdc4-4479-db69-d2312807695d"
      },
      "execution_count": 18,
      "outputs": [
        {
          "output_type": "execute_result",
          "data": {
            "text/plain": [
              "<matplotlib.patches.StepPatch at 0x7f506804eb50>"
            ]
          },
          "metadata": {},
          "execution_count": 18
        },
        {
          "output_type": "display_data",
          "data": {
            "text/plain": [
              "<Figure size 432x288 with 1 Axes>"
            ],
            "image/png": "[encoded data removed]"
          },
          "metadata": {
            "needs_background": "light"
          }
        }
      ]
    },
    {
      "cell_type": "code",
      "source": [
        "# # load the mortality table\n",
        "# xml = MortXML(2581)\n",
        "# mortalityTable = jnp.array(xml.Tables[0].Values.vals)\n",
        "\n",
        "# key = random.PRNGKey(0)\n",
        "# key, subkey = random.split(key)\n",
        "# model_points = 1_000\n",
        "# issue_age = random.randint(subkey, (model_points,), 35, 55)\n",
        "\n",
        "# # 20 year annuity with constant mortality of .1, each annuity pays 1 dollar a year\n",
        "# def timeStep(policyAges: jnp.DeviceArray, key: jax.random.PRNGKeyArray):\n",
        "#   return policies * jnp.where(jax.random.uniform(key, shape=(100,)) > .1, 1, 0)\n",
        "\n",
        "# def timeSteps(policies: jnp.DeviceArray, keyInit: int):\n",
        "#   key = jax.random.PRNGKey(keyInit)\n",
        "#   res = []\n",
        "#   for t in range(1, 20+1):\n",
        "#     key, subkey = jax.random.split(key)\n",
        "#     policies = timeStep(policies, subkey)\n",
        "#     res.append(policies)\n",
        "  \n",
        "#   # dimensions are Timesteps X Policies\n",
        "#   return jnp.array(res)"
      ],
      "metadata": {
        "id": "2oA3Oib5WcpG"
      },
      "execution_count": null,
      "outputs": []
    }
  ]
}